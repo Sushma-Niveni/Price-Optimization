{
  "cells": [
    {
      "cell_type": "markdown",
      "metadata": {
        "id": "pUjlgHunGeJp"
      },
      "source": [
        "\n",
        "\n",
        "We are going to run a linear regression to investigate the role of price on sales.\n",
        "\n",
        "Regression Model:\n",
        "\n",
        "\\begin{equation}\n",
        "y=\\beta_0 +\\beta_1 x_1+...+\\beta_N x_N +\\epsilon\n",
        "\\end{equation}\n",
        "\n",
        "*   $y$ will be our **dependent variable**\n",
        "*   $x={x_1, x_2, ...,x_N}$ will be our vector of **independent variables**\n",
        "* The term $\\epsilon$ captures all the other factors that will impact donations.\n",
        "\n"
      ]
    },
    {
      "cell_type": "markdown",
      "metadata": {
        "id": "n12351ulGyyN"
      },
      "source": [
        "# Step 1:  Loading the necessary packages"
      ]
    },
    {
      "cell_type": "code",
      "execution_count": 1,
      "metadata": {
        "id": "2hbpGgqhGXSP"
      },
      "outputs": [],
      "source": [
        "import pandas as pd # Load the Python package panda for data manipulation\n",
        "import numpy as np  # Load the Python package numpy for some math operations\n",
        "import matplotlib.pyplot as plt # this package is used make plots\n",
        "import statsmodels.api as sm"
      ]
    },
    {
      "cell_type": "markdown",
      "metadata": {
        "id": "gfLQuGzMG2LK"
      },
      "source": [
        "# Step 2: Load the *data*"
      ]
    },
    {
      "cell_type": "code",
      "execution_count": 2,
      "metadata": {
        "id": "76UixSNjG2nm"
      },
      "outputs": [],
      "source": [
        "url_248 = 'https://raw.githubusercontent.com/ormarketing/248/master/248.csv' # define url_248 as the link\n",
        "df = pd.read_csv(url_248) # read the object url_248, which is a csv file as a dataframe"
      ]
    },
    {
      "cell_type": "markdown",
      "metadata": {
        "id": "nSys25arHCF5"
      },
      "source": [
        "# Step 3:  Explore the Data"
      ]
    },
    {
      "cell_type": "code",
      "execution_count": 3,
      "metadata": {
        "id": "d9iOefARHFt-"
      },
      "outputs": [
        {
          "data": {
            "text/html": [
              "<div>\n",
              "<style scoped>\n",
              "    .dataframe tbody tr th:only-of-type {\n",
              "        vertical-align: middle;\n",
              "    }\n",
              "\n",
              "    .dataframe tbody tr th {\n",
              "        vertical-align: top;\n",
              "    }\n",
              "\n",
              "    .dataframe thead th {\n",
              "        text-align: right;\n",
              "    }\n",
              "</style>\n",
              "<table border=\"1\" class=\"dataframe\">\n",
              "  <thead>\n",
              "    <tr style=\"text-align: right;\">\n",
              "      <th></th>\n",
              "      <th>WEEK</th>\n",
              "      <th>UNITS1</th>\n",
              "      <th>REGPR1</th>\n",
              "      <th>CUT1</th>\n",
              "      <th>FEAT1</th>\n",
              "      <th>DISP1</th>\n",
              "      <th>UNITS2</th>\n",
              "      <th>REGPR2</th>\n",
              "      <th>CUT2</th>\n",
              "      <th>FEAT2</th>\n",
              "      <th>...</th>\n",
              "      <th>UNITS3</th>\n",
              "      <th>REGPR3</th>\n",
              "      <th>CUT3</th>\n",
              "      <th>FEAT3</th>\n",
              "      <th>DISP3</th>\n",
              "      <th>UNITS4</th>\n",
              "      <th>REGPR4</th>\n",
              "      <th>CUT4</th>\n",
              "      <th>FEAT4</th>\n",
              "      <th>DISP4</th>\n",
              "    </tr>\n",
              "  </thead>\n",
              "  <tbody>\n",
              "    <tr>\n",
              "      <th>0</th>\n",
              "      <td>1</td>\n",
              "      <td>144</td>\n",
              "      <td>1.3303</td>\n",
              "      <td>0.0</td>\n",
              "      <td>0</td>\n",
              "      <td>0.0</td>\n",
              "      <td>569</td>\n",
              "      <td>0.9355</td>\n",
              "      <td>0.0000</td>\n",
              "      <td>0</td>\n",
              "      <td>...</td>\n",
              "      <td>19</td>\n",
              "      <td>1.0689</td>\n",
              "      <td>0.0000</td>\n",
              "      <td>0</td>\n",
              "      <td>0.0</td>\n",
              "      <td>89</td>\n",
              "      <td>0.8293</td>\n",
              "      <td>0.0</td>\n",
              "      <td>0</td>\n",
              "      <td>0.0</td>\n",
              "    </tr>\n",
              "    <tr>\n",
              "      <th>1</th>\n",
              "      <td>2</td>\n",
              "      <td>229</td>\n",
              "      <td>1.3127</td>\n",
              "      <td>0.0</td>\n",
              "      <td>0</td>\n",
              "      <td>0.0</td>\n",
              "      <td>276</td>\n",
              "      <td>0.9478</td>\n",
              "      <td>0.0000</td>\n",
              "      <td>0</td>\n",
              "      <td>...</td>\n",
              "      <td>88</td>\n",
              "      <td>1.0689</td>\n",
              "      <td>0.1434</td>\n",
              "      <td>0</td>\n",
              "      <td>0.0</td>\n",
              "      <td>73</td>\n",
              "      <td>0.8900</td>\n",
              "      <td>0.0</td>\n",
              "      <td>0</td>\n",
              "      <td>0.0</td>\n",
              "    </tr>\n",
              "    <tr>\n",
              "      <th>2</th>\n",
              "      <td>3</td>\n",
              "      <td>244</td>\n",
              "      <td>1.2900</td>\n",
              "      <td>0.0</td>\n",
              "      <td>0</td>\n",
              "      <td>0.0</td>\n",
              "      <td>122</td>\n",
              "      <td>0.9809</td>\n",
              "      <td>0.0000</td>\n",
              "      <td>0</td>\n",
              "      <td>...</td>\n",
              "      <td>1519</td>\n",
              "      <td>1.0685</td>\n",
              "      <td>0.0000</td>\n",
              "      <td>0</td>\n",
              "      <td>0.0</td>\n",
              "      <td>66</td>\n",
              "      <td>0.8900</td>\n",
              "      <td>0.0</td>\n",
              "      <td>0</td>\n",
              "      <td>0.0</td>\n",
              "    </tr>\n",
              "    <tr>\n",
              "      <th>3</th>\n",
              "      <td>4</td>\n",
              "      <td>214</td>\n",
              "      <td>1.2900</td>\n",
              "      <td>0.0</td>\n",
              "      <td>0</td>\n",
              "      <td>0.0</td>\n",
              "      <td>481</td>\n",
              "      <td>0.9809</td>\n",
              "      <td>0.0637</td>\n",
              "      <td>0</td>\n",
              "      <td>...</td>\n",
              "      <td>411</td>\n",
              "      <td>1.0685</td>\n",
              "      <td>0.0487</td>\n",
              "      <td>0</td>\n",
              "      <td>0.0</td>\n",
              "      <td>55</td>\n",
              "      <td>0.8900</td>\n",
              "      <td>0.0</td>\n",
              "      <td>0</td>\n",
              "      <td>0.0</td>\n",
              "    </tr>\n",
              "    <tr>\n",
              "      <th>4</th>\n",
              "      <td>5</td>\n",
              "      <td>261</td>\n",
              "      <td>1.2900</td>\n",
              "      <td>0.0</td>\n",
              "      <td>0</td>\n",
              "      <td>0.0</td>\n",
              "      <td>506</td>\n",
              "      <td>0.9809</td>\n",
              "      <td>0.0620</td>\n",
              "      <td>0</td>\n",
              "      <td>...</td>\n",
              "      <td>87</td>\n",
              "      <td>1.0685</td>\n",
              "      <td>0.0860</td>\n",
              "      <td>0</td>\n",
              "      <td>0.0</td>\n",
              "      <td>65</td>\n",
              "      <td>0.8900</td>\n",
              "      <td>0.0</td>\n",
              "      <td>0</td>\n",
              "      <td>0.0</td>\n",
              "    </tr>\n",
              "  </tbody>\n",
              "</table>\n",
              "<p>5 rows × 21 columns</p>\n",
              "</div>"
            ],
            "text/plain": [
              "   WEEK  UNITS1  REGPR1  CUT1  FEAT1  DISP1  UNITS2  REGPR2    CUT2  FEAT2  \\\n",
              "0     1     144  1.3303   0.0      0    0.0     569  0.9355  0.0000      0   \n",
              "1     2     229  1.3127   0.0      0    0.0     276  0.9478  0.0000      0   \n",
              "2     3     244  1.2900   0.0      0    0.0     122  0.9809  0.0000      0   \n",
              "3     4     214  1.2900   0.0      0    0.0     481  0.9809  0.0637      0   \n",
              "4     5     261  1.2900   0.0      0    0.0     506  0.9809  0.0620      0   \n",
              "\n",
              "   ...  UNITS3  REGPR3    CUT3  FEAT3  DISP3  UNITS4  REGPR4  CUT4  FEAT4  \\\n",
              "0  ...      19  1.0689  0.0000      0    0.0      89  0.8293   0.0      0   \n",
              "1  ...      88  1.0689  0.1434      0    0.0      73  0.8900   0.0      0   \n",
              "2  ...    1519  1.0685  0.0000      0    0.0      66  0.8900   0.0      0   \n",
              "3  ...     411  1.0685  0.0487      0    0.0      55  0.8900   0.0      0   \n",
              "4  ...      87  1.0685  0.0860      0    0.0      65  0.8900   0.0      0   \n",
              "\n",
              "   DISP4  \n",
              "0    0.0  \n",
              "1    0.0  \n",
              "2    0.0  \n",
              "3    0.0  \n",
              "4    0.0  \n",
              "\n",
              "[5 rows x 21 columns]"
            ]
          },
          "execution_count": 3,
          "metadata": {},
          "output_type": "execute_result"
        }
      ],
      "source": [
        "df.head(5) # return the first 5 rows and columns of the data"
      ]
    },
    {
      "cell_type": "code",
      "execution_count": 4,
      "metadata": {
        "id": "ofTxwYUtHGLM"
      },
      "outputs": [
        {
          "data": {
            "text/plain": [
              "[<matplotlib.lines.Line2D at 0x2a151e22910>]"
            ]
          },
          "execution_count": 4,
          "metadata": {},
          "output_type": "execute_result"
        },
        {
          "data": {
            "image/png": "[encoded data removed]",
            "text/plain": [
              "<Figure size 640x480 with 1 Axes>"
            ]
          },
          "metadata": {},
          "output_type": "display_data"
        }
      ],
      "source": [
        "plt.plot(df['UNITS1'])"
      ]
    },
    {
      "cell_type": "markdown",
      "metadata": {
        "id": "ylA5izMLHaMn"
      },
      "source": [
        "# Step 4: Preparing the Data for Analysis"
      ]
    },
    {
      "cell_type": "code",
      "execution_count": 5,
      "metadata": {
        "id": "wRtMeZckHNPM"
      },
      "outputs": [],
      "source": [
        "price1 = df['REGPR1']-df['CUT1'] # define variable price1 as the difference between regular price and price cut\n",
        "price2 = df['REGPR2']-df['CUT2']\n",
        "price3 = df['REGPR3']-df['CUT3']\n",
        "price4 = df['REGPR4']-df['CUT4']\n",
        "df['const'] = 1 # define a vector of 1s in the dataframe\n",
        "df['Price1'] = price1\n",
        "df['Price2'] = price2\n",
        "df['Price3'] = price3\n",
        "df['Price4'] = price4"
      ]
    },
    {
      "cell_type": "markdown",
      "metadata": {
        "id": "sgFI4BiwHoSM"
      },
      "source": [
        "## Step 5: Run the regression"
      ]
    },
    {
      "cell_type": "code",
      "execution_count": 6,
      "metadata": {
        "id": "v3pbd0SdHwSD"
      },
      "outputs": [
        {
          "name": "stdout",
          "output_type": "stream",
          "text": [
            "                            OLS Regression Results                            \n",
            "==============================================================================\n",
            "Dep. Variable:                 UNITS1   R-squared:                       0.637\n",
            "Model:                            OLS   Adj. R-squared:                  0.594\n",
            "Method:                 Least Squares   F-statistic:                     14.64\n",
            "Date:                Fri, 03 May 2024   Prob (F-statistic):           3.70e-17\n",
            "Time:                        16:12:42   Log-Likelihood:                -852.95\n",
            "No. Observations:                 113   AIC:                             1732.\n",
            "Df Residuals:                     100   BIC:                             1767.\n",
            "Df Model:                          12                                         \n",
            "Covariance Type:            nonrobust                                         \n",
            "==============================================================================\n",
            "                 coef    std err          t      P>|t|      [0.025      0.975]\n",
            "------------------------------------------------------------------------------\n",
            "const       1078.4482    869.111      1.241      0.218    -645.843    2802.740\n",
            "Price1      1330.9626    814.928      1.633      0.106    -285.832    2947.757\n",
            "Price2      1224.9159    971.337      1.261      0.210    -702.188    3152.020\n",
            "Price3     -1016.2242    692.233     -1.468      0.145   -2389.595     357.146\n",
            "Price4     -2948.4284   1782.343     -1.654      0.101   -6484.546     587.689\n",
            "FEAT1       1851.1387    157.850     11.727      0.000    1537.968    2164.309\n",
            "FEAT2         72.0190    202.308      0.356      0.723    -329.354     473.392\n",
            "FEAT3       -325.3110    179.254     -1.815      0.073    -680.946      30.324\n",
            "FEAT4       -241.0155    266.087     -0.906      0.367    -768.925     286.894\n",
            "DISP1        178.4920    559.421      0.319      0.750    -931.383    1288.367\n",
            "DISP2         82.4457    317.400      0.260      0.796    -547.268     712.159\n",
            "DISP3       -395.0749    409.896     -0.964      0.337   -1208.296     418.147\n",
            "DISP4       1255.4248   1786.141      0.703      0.484   -2288.228    4799.077\n",
            "==============================================================================\n",
            "Omnibus:                       29.664   Durbin-Watson:                   1.554\n",
            "Prob(Omnibus):                  0.000   Jarque-Bera (JB):               64.024\n",
            "Skew:                           1.031   Prob(JB):                     1.25e-14\n",
            "Kurtosis:                       6.057   Cond. No.                         99.8\n",
            "==============================================================================\n",
            "\n",
            "Notes:\n",
            "[1] Standard Errors assume that the covariance matrix of the errors is correctly specified.\n"
          ]
        }
      ],
      "source": [
        "y_brand1 = df['UNITS1'] # define variable y the column 'UNITS1' in the dataframe. This is my DEPENDENT Variable\n",
        "x_brand1 = df[['const','Price1','Price2','Price3','Price4','FEAT1','FEAT2','FEAT3','FEAT4','DISP1','DISP2','DISP3','DISP4']] #define the matrix x with all INDEPENDENT variables\n",
        "reg_brand1 = sm.OLS(y_brand1,x_brand1)# do the regression\n",
        "type(reg_brand1)\n",
        "results = reg_brand1.fit()\n",
        "type(results)\n",
        "print(results.summary())"
      ]
    },
    {
      "cell_type": "markdown",
      "metadata": {},
      "source": [
        "\n",
        "Regression Model:\n",
        "The regression equation as follows:\n",
        "\\begin{equation}\n",
        "y= 1078.4482 + 1330.9626 \\cdot \\text{Price1} + 1224.9159 \\cdot \\text{Price2} - 1016.2242 \\cdot \\text{Price3} - 2948.4284 \\cdot \\text{Price4} + 1851.1387 \\cdot \\text{FEAT1} + 72.0190 \\cdot \\text{FEAT2} - 325.3110 \\cdot \\text{FEAT3} - 241.0155 \\cdot \\text{FEAT4} + 178.4920 \\cdot \\text{DISP1} + 82.4457 \\cdot \\text{DISP2} - 395.0749 \\cdot \\text{DISP3} + 1255.4248 \\cdot \\text{DISP4} + \\epsilon \n",
        "\\end{equation}\n",
        "\n",
        "*   $y$ will be our **dependent variable**\n",
        "*   $x={x_1, x_2, ...,x_N}$ will be our vector of **independent variables**\n",
        "* The term $\\epsilon$ captures all the other factors that will impact donations.\n",
        "\n",
        "Where:\n",
        "- y represents the predicted number of units sold.\n",
        "- `Price1`, `Price2`, `Price3`, `Price4` are the differences between regular price and price cut for each product.\n",
        "- `FEAT1`, `FEAT2`, `FEAT3`, `FEAT4` indicate the feature displays for each product.\n",
        "- `DISP1`, `DISP2`, `DISP3`, `DISP4` represent the product displays for each product.\n",
        "- $\\epsilon$ denotes the error term capturing unexplained variability.\n",
        "\n",
        "This equation allows you to predict the number of units sold based on the given independent variables (price differences, feature displays, and product displays), along with their respective coefficients obtained from the regression analysis."
      ]
    }
  ],
  "metadata": {
    "colab": {
      "provenance": []
    },
    "kernelspec": {
      "display_name": "Python 3",
      "name": "python3"
    },
    "language_info": {
      "codemirror_mode": {
        "name": "ipython",
        "version": 3
      },
      "file_extension": ".py",
      "mimetype": "text/x-python",
      "name": "python",
      "nbconvert_exporter": "python",
      "pygments_lexer": "ipython3",
      "version": "3.11.5"
    }
  },
  "nbformat": 4,
  "nbformat_minor": 0
}
